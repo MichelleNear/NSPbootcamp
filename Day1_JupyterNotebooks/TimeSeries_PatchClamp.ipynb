{
 "cells": [
  {
   "cell_type": "markdown",
   "metadata": {},
   "source": [
    "# note: \n",
    "please create a fresh Anaconda env:<br>\n",
    "`conda create -n allensdk pip numpy=1.18.1 pandas=0.25.1 jupyterlab`<br>\n",
    "`conda activate allensdk`<br>\n",
    "`pip install allensdk`\n",
    "\n",
    "and relaunch this Jupyter Lab server:<br>\n",
    "`jupyter lab`<br>\n",
    "before running this notebook"
   ]
  },
  {
   "cell_type": "markdown",
   "metadata": {},
   "source": [
    "# Time Series - Patch Clamp Analysis with Python in a Jupyter notebook\n",
    "#### We're going to use data from the Allen Institute for Brain Science Cell Types project. This is patch clamp data data collected in several cortical areas in the mouse brain. We'll get the data using the [Allen Software Development Kit](https://allensdk.readthedocs.io/en/latest/), which Python to programmatically access [this data](https://allensdk.readthedocs.io/en/latest/cell_types.html). From the Allen documentation:\n",
    "\"Whole cell patch clamp recordings provide basic information about cell firing properties. Recordings are\n",
    "performed using a range of stimulus protocols, including short pulses, long steps, slow ramps, and naturalistic\n",
    "noise to characterize the intrinsic properties of these neurons...Electrophysiological data collected from individual whole-cell recordings consisted of high temporal resolution time series of membrane potential (in current-clamp mode) and trans-membrane current measurements (in voltage-clamp mode). For the Allen Cell Types Database, the data were primarily collected in current-clamp mode to determine the basic subthreshold and suprathreshold electrical behavior of various cell types.\"\n",
    "\n",
    "#### For this exercise, some of the code is pre-written, and you will simply execute it. In other cases, you will be prompted to write some code lines to advance towards this goal. **There are going to be 8 such prompts, always bolded** plus some bonus challenges if you want to keep going. \n",
    "Here is an example of what we are trying to to do:"
   ]
  },
  {
   "cell_type": "markdown",
   "metadata": {},
   "source": [
    "![Family of traces](../res/family_traces.png)"
   ]
  },
  {
   "cell_type": "markdown",
   "metadata": {},
   "source": [
    "## Imports of packages we will need for this notebook. \n",
    "#### All are standard and those that we have talked about, plus the AllenSDK for gettting the data\n",
    "(and a bit of code to suppress an distracting warning that gets produced by a package the AllenSDK uses)"
   ]
  },
  {
   "cell_type": "code",
   "execution_count": 7,
   "metadata": {},
   "outputs": [],
   "source": [
    "import numpy as np\n",
    "import os,sys\n",
    "import matplotlib.pyplot as plt\n",
    "from allensdk.core.cell_types_cache import CellTypesCache\n",
    "import warnings\n",
    "warnings.filterwarnings('ignore')\n",
    "%matplotlib inline"
   ]
  },
  {
   "cell_type": "markdown",
   "metadata": {},
   "source": [
    "### Now we will get the Neuropixels data from the Allen Institute servers. "
   ]
  },
  {
   "cell_type": "code",
   "execution_count": 2,
   "metadata": {},
   "outputs": [],
   "source": [
    "ctc = CellTypesCache()\n",
    "cell_specimen_id = 464212183\n",
    "data_set = ctc.get_ephys_data(cell_specimen_id)\n",
    "sweeps = ctc.get_ephys_sweeps(cell_specimen_id)"
   ]
  },
  {
   "cell_type": "code",
   "execution_count": null,
   "metadata": {},
   "outputs": [],
   "source": [
    "print([attr_or_method for attr_or_method in dir(ctc) if attr_or_method[0] != '_'])"
   ]
  },
  {
   "cell_type": "markdown",
   "metadata": {},
   "source": [
    " What type of data is ```data_set```?"
   ]
  },
  {
   "cell_type": "code",
   "execution_count": null,
   "metadata": {},
   "outputs": [],
   "source": [
    "type(data_set)"
   ]
  },
  {
   "cell_type": "markdown",
   "metadata": {},
   "source": [
    "This is a data object that is not a basic type! what is an \"NwbDataSet\"? it's a class object defined by the AllenSDK. classes have functions (methods) of their own, and attributes. both are accessed with by putting a ```.``` after the class object. here's funky line that will tell us what all of the attributes of ```session``` object:"
   ]
  },
  {
   "cell_type": "code",
   "execution_count": null,
   "metadata": {},
   "outputs": [],
   "source": [
    "print([attr_or_method for attr_or_method in dir(data_set) if attr_or_method[0] != '_'])"
   ]
  },
  {
   "cell_type": "markdown",
   "metadata": {},
   "source": [
    "Now we can see, above, the attribues and methods in ```data_set```. \n",
    "<br>Some of these may, or may not, be descriptive and informative to you. If you want to dive in to the whole thing, there is information on [this webpage](http://celltypes.brain-map.org/) and in [this pdf](http://help.brain-map.org/download/attachments/8323525/CellTypes_Ephys_Overview.pdf). "
   ]
  },
  {
   "cell_type": "markdown",
   "metadata": {},
   "source": [
    "<br>Before we move on, let's make sure we understand this key concept of a \"sweep\" as in the attribues ```'get_sweep'```,``` 'get_sweep_metadata', ``` and ```'get_sweep_numbers'``` in ```data_set``` above.\n",
    "<br>A sweep is a high temporal resolution time series of membrane potential, and the correspending injected current. Here is an example of one swee, in this case sweep number 30:"
   ]
  },
  {
   "cell_type": "code",
   "execution_count": 8,
   "metadata": {},
   "outputs": [
    {
     "data": {
      "text/plain": [
       "Text(0.5, 0, 'seconds')"
      ]
     },
     "execution_count": 8,
     "metadata": {},
     "output_type": "execute_result"
    },
    {
     "data": {
      "image/png": "[encoded data removed]",
      "text/plain": [
       "<Figure size 432x288 with 2 Axes>"
      ]
     },
     "metadata": {
      "needs_background": "light"
     },
     "output_type": "display_data"
    }
   ],
   "source": [
    "sweep_data = data_set.get_sweep(30)\n",
    "\n",
    "i = sweep_data[\"stimulus\"][0:sweep_data[\"index_range\"][1]+1] # in A\n",
    "v = sweep_data[\"response\"][0:sweep_data[\"index_range\"][1]+1] # in V\n",
    "i *= 1e12 # to pA\n",
    "v *= 1e3 # to mV\n",
    "\n",
    "sampling_rate = sweep_data[\"sampling_rate\"] # in Hz\n",
    "t = np.arange(0, len(v)) * (1.0 / sampling_rate)\n",
    "\n",
    "fig, axes = plt.subplots(2, 1, sharex=True)\n",
    "axes[0].plot(t, v, color='black')\n",
    "axes[1].plot(t, i, color='gray')\n",
    "axes[0].set_ylabel(\"mV\")\n",
    "axes[1].set_ylabel(\"pA\")\n",
    "axes[1].set_xlabel(\"seconds\")\n"
   ]
  },
  {
   "cell_type": "markdown",
   "metadata": {},
   "source": [
    "<br>**First question of this exercise:<br>Q1. What type of data is ```sweeps```? write some code that will give the answer in the cell below:**"
   ]
  },
  {
   "cell_type": "code",
   "execution_count": null,
   "metadata": {},
   "outputs": [],
   "source": []
  },
  {
   "cell_type": "code",
   "execution_count": 9,
   "metadata": {},
   "outputs": [],
   "source": [
    "import pandas as pd"
   ]
  },
  {
   "cell_type": "markdown",
   "metadata": {},
   "source": [
    "That's a fine data type to use, but as we covered in the intro, the packages are what makes python powerful and a pandas DataFrame might be nice for searching for sweeps "
   ]
  },
  {
   "cell_type": "code",
   "execution_count": 10,
   "metadata": {},
   "outputs": [],
   "source": [
    "df_sweeps = pd.DataFrame(sweeps)"
   ]
  },
  {
   "cell_type": "markdown",
   "metadata": {},
   "source": [
    "Welp, that didn't work.<br>\n",
    "**Q2: why not? make the above cell work, without changing the code in the cell. add a cell above it, and then rerun the cell with ```df_sweeps = pd.DataFrame(sweeps)``` (or...if it did work...what had you done that made it work?)**"
   ]
  },
  {
   "cell_type": "markdown",
   "metadata": {},
   "source": [
    "A nice feature of pandas DataFrames, like ```df_sweeps``` is being able to glimps at what's in them. we'll use ```.head()``` to show us just the first five entries in ```df_sweeps```, that way we can read all of the columns and get a flavor:"
   ]
  },
  {
   "cell_type": "code",
   "execution_count": 11,
   "metadata": {},
   "outputs": [
    {
     "data": {
      "text/html": [
       "<div>\n",
       "<style scoped>\n",
       "    .dataframe tbody tr th:only-of-type {\n",
       "        vertical-align: middle;\n",
       "    }\n",
       "\n",
       "    .dataframe tbody tr th {\n",
       "        vertical-align: top;\n",
       "    }\n",
       "\n",
       "    .dataframe thead th {\n",
       "        text-align: right;\n",
       "    }\n",
       "</style>\n",
       "<table border=\"1\" class=\"dataframe\">\n",
       "  <thead>\n",
       "    <tr style=\"text-align: right;\">\n",
       "      <th></th>\n",
       "      <th>bridge_balance_mohm</th>\n",
       "      <th>id</th>\n",
       "      <th>leak_pa</th>\n",
       "      <th>num_spikes</th>\n",
       "      <th>peak_deflection</th>\n",
       "      <th>post_noise_rms_mv</th>\n",
       "      <th>post_vm_mv</th>\n",
       "      <th>pre_noise_rms_mv</th>\n",
       "      <th>pre_vm_mv</th>\n",
       "      <th>slow_noise_rms_mv</th>\n",
       "      <th>...</th>\n",
       "      <th>stimulus_absolute_amplitude</th>\n",
       "      <th>stimulus_description</th>\n",
       "      <th>stimulus_duration</th>\n",
       "      <th>stimulus_interval</th>\n",
       "      <th>stimulus_name</th>\n",
       "      <th>stimulus_relative_amplitude</th>\n",
       "      <th>stimulus_start_time</th>\n",
       "      <th>stimulus_units</th>\n",
       "      <th>sweep_number</th>\n",
       "      <th>vm_delta_mv</th>\n",
       "    </tr>\n",
       "  </thead>\n",
       "  <tbody>\n",
       "    <tr>\n",
       "      <th>0</th>\n",
       "      <td>0.000000</td>\n",
       "      <td>464306827</td>\n",
       "      <td>0.0</td>\n",
       "      <td>0.0</td>\n",
       "      <td>NaN</td>\n",
       "      <td>0.0</td>\n",
       "      <td>0.0</td>\n",
       "      <td>0.000000</td>\n",
       "      <td>0.000000</td>\n",
       "      <td>0.000000</td>\n",
       "      <td>...</td>\n",
       "      <td>10.000000</td>\n",
       "      <td>EXTPSMOKET141203[0]</td>\n",
       "      <td>0.069995</td>\n",
       "      <td>0.05</td>\n",
       "      <td>Test</td>\n",
       "      <td>1.0</td>\n",
       "      <td>0.0300</td>\n",
       "      <td>Volts</td>\n",
       "      <td>0</td>\n",
       "      <td>0.0</td>\n",
       "    </tr>\n",
       "    <tr>\n",
       "      <th>1</th>\n",
       "      <td>0.000000</td>\n",
       "      <td>464306829</td>\n",
       "      <td>0.0</td>\n",
       "      <td>0.0</td>\n",
       "      <td>NaN</td>\n",
       "      <td>0.0</td>\n",
       "      <td>0.0</td>\n",
       "      <td>0.000000</td>\n",
       "      <td>0.000000</td>\n",
       "      <td>0.000000</td>\n",
       "      <td>...</td>\n",
       "      <td>10.000000</td>\n",
       "      <td>EXTPINBATH141203[0]</td>\n",
       "      <td>0.069995</td>\n",
       "      <td>0.05</td>\n",
       "      <td>Test</td>\n",
       "      <td>1.0</td>\n",
       "      <td>0.0300</td>\n",
       "      <td>Volts</td>\n",
       "      <td>1</td>\n",
       "      <td>0.0</td>\n",
       "    </tr>\n",
       "    <tr>\n",
       "      <th>2</th>\n",
       "      <td>0.000000</td>\n",
       "      <td>464306863</td>\n",
       "      <td>0.0</td>\n",
       "      <td>0.0</td>\n",
       "      <td>NaN</td>\n",
       "      <td>0.0</td>\n",
       "      <td>0.0</td>\n",
       "      <td>0.000000</td>\n",
       "      <td>0.000000</td>\n",
       "      <td>0.000000</td>\n",
       "      <td>...</td>\n",
       "      <td>10.000000</td>\n",
       "      <td>EXTPCllATT141203[0]</td>\n",
       "      <td>0.069995</td>\n",
       "      <td>0.05</td>\n",
       "      <td>Test</td>\n",
       "      <td>1.0</td>\n",
       "      <td>0.0300</td>\n",
       "      <td>Volts</td>\n",
       "      <td>2</td>\n",
       "      <td>0.0</td>\n",
       "    </tr>\n",
       "    <tr>\n",
       "      <th>3</th>\n",
       "      <td>0.000000</td>\n",
       "      <td>464306885</td>\n",
       "      <td>0.0</td>\n",
       "      <td>0.0</td>\n",
       "      <td>NaN</td>\n",
       "      <td>0.0</td>\n",
       "      <td>0.0</td>\n",
       "      <td>0.000000</td>\n",
       "      <td>0.000000</td>\n",
       "      <td>0.000000</td>\n",
       "      <td>...</td>\n",
       "      <td>10.000000</td>\n",
       "      <td>EXTPBREAKN141203[0]</td>\n",
       "      <td>0.069995</td>\n",
       "      <td>0.05</td>\n",
       "      <td>Test</td>\n",
       "      <td>1.0</td>\n",
       "      <td>0.0300</td>\n",
       "      <td>Volts</td>\n",
       "      <td>3</td>\n",
       "      <td>0.0</td>\n",
       "    </tr>\n",
       "    <tr>\n",
       "      <th>4</th>\n",
       "      <td>16.178267</td>\n",
       "      <td>464306907</td>\n",
       "      <td>0.0</td>\n",
       "      <td>12.0</td>\n",
       "      <td>NaN</td>\n",
       "      <td>0.0</td>\n",
       "      <td>0.0</td>\n",
       "      <td>0.038605</td>\n",
       "      <td>-64.822418</td>\n",
       "      <td>0.155027</td>\n",
       "      <td>...</td>\n",
       "      <td>499.999986</td>\n",
       "      <td>C1RP25PR1S141203[0]</td>\n",
       "      <td>19.997495</td>\n",
       "      <td>NaN</td>\n",
       "      <td>Ramp</td>\n",
       "      <td>1.0</td>\n",
       "      <td>1.0225</td>\n",
       "      <td>Amps</td>\n",
       "      <td>4</td>\n",
       "      <td>0.0</td>\n",
       "    </tr>\n",
       "  </tbody>\n",
       "</table>\n",
       "<p>5 rows × 22 columns</p>\n",
       "</div>"
      ],
      "text/plain": [
       "   bridge_balance_mohm         id  leak_pa  num_spikes  peak_deflection  \\\n",
       "0             0.000000  464306827      0.0         0.0              NaN   \n",
       "1             0.000000  464306829      0.0         0.0              NaN   \n",
       "2             0.000000  464306863      0.0         0.0              NaN   \n",
       "3             0.000000  464306885      0.0         0.0              NaN   \n",
       "4            16.178267  464306907      0.0        12.0              NaN   \n",
       "\n",
       "   post_noise_rms_mv  post_vm_mv  pre_noise_rms_mv  pre_vm_mv  \\\n",
       "0                0.0         0.0          0.000000   0.000000   \n",
       "1                0.0         0.0          0.000000   0.000000   \n",
       "2                0.0         0.0          0.000000   0.000000   \n",
       "3                0.0         0.0          0.000000   0.000000   \n",
       "4                0.0         0.0          0.038605 -64.822418   \n",
       "\n",
       "   slow_noise_rms_mv  ...  stimulus_absolute_amplitude  stimulus_description  \\\n",
       "0           0.000000  ...                    10.000000   EXTPSMOKET141203[0]   \n",
       "1           0.000000  ...                    10.000000   EXTPINBATH141203[0]   \n",
       "2           0.000000  ...                    10.000000   EXTPCllATT141203[0]   \n",
       "3           0.000000  ...                    10.000000   EXTPBREAKN141203[0]   \n",
       "4           0.155027  ...                   499.999986   C1RP25PR1S141203[0]   \n",
       "\n",
       "   stimulus_duration stimulus_interval  stimulus_name  \\\n",
       "0           0.069995              0.05           Test   \n",
       "1           0.069995              0.05           Test   \n",
       "2           0.069995              0.05           Test   \n",
       "3           0.069995              0.05           Test   \n",
       "4          19.997495               NaN           Ramp   \n",
       "\n",
       "   stimulus_relative_amplitude stimulus_start_time  stimulus_units  \\\n",
       "0                          1.0              0.0300           Volts   \n",
       "1                          1.0              0.0300           Volts   \n",
       "2                          1.0              0.0300           Volts   \n",
       "3                          1.0              0.0300           Volts   \n",
       "4                          1.0              1.0225            Amps   \n",
       "\n",
       "   sweep_number vm_delta_mv  \n",
       "0             0         0.0  \n",
       "1             1         0.0  \n",
       "2             2         0.0  \n",
       "3             3         0.0  \n",
       "4             4         0.0  \n",
       "\n",
       "[5 rows x 22 columns]"
      ]
     },
     "execution_count": 11,
     "metadata": {},
     "output_type": "execute_result"
    }
   ],
   "source": [
    "df_sweeps.head()"
   ]
  },
  {
   "cell_type": "markdown",
   "metadata": {},
   "source": [
    "**Q3. How many sweeps, with any kind of current injection, were recorded done in this recording? write some code that will give the answer in the cell below:**\n",
    "_note: there is not one way to do this; there are several. any is fine! "
   ]
  },
  {
   "cell_type": "code",
   "execution_count": null,
   "metadata": {},
   "outputs": [],
   "source": []
  },
  {
   "cell_type": "markdown",
   "metadata": {},
   "source": [
    "What kind of stimuli were there in the sweeps? We find out from this DataFrame:"
   ]
  },
  {
   "cell_type": "code",
   "execution_count": null,
   "metadata": {},
   "outputs": [],
   "source": [
    "df_sweeps.stimulus_name.unique()"
   ]
  },
  {
   "cell_type": "markdown",
   "metadata": {},
   "source": [
    "Let's focus on one type of sweep, the \"Long Square\" that we plotted above. First, let's find all of the sweeps with a \"Long Square\" current injection. Because we have a pandas DataFrame, we can easily filter it for \"Long Square\"s:"
   ]
  },
  {
   "cell_type": "code",
   "execution_count": null,
   "metadata": {},
   "outputs": [],
   "source": [
    "long_square_sweeps = df_sweeps[df_sweeps.stimulus_name == 'Long Square']\n",
    "long_square_sweeps.head()"
   ]
  },
  {
   "cell_type": "code",
   "execution_count": null,
   "metadata": {},
   "outputs": [],
   "source": [
    "print(long_square_sweeps.columns)"
   ]
  },
  {
   "cell_type": "markdown",
   "metadata": {},
   "source": [
    "**Q4: How many different amplitudes of long sqaure pulse were applied? Make a variable called ```amplitudes``` that contains the absolute ampltiudes, and measure how may entries are in this variable.**"
   ]
  },
  {
   "cell_type": "code",
   "execution_count": null,
   "metadata": {},
   "outputs": [],
   "source": []
  },
  {
   "cell_type": "markdown",
   "metadata": {},
   "source": [
    "**Q5: How long (in duration) was each of these sweeps? make a variable called ```duration``` and assign it your answer (in seconds)** _hint: look at the other column names in ```grating_stimuli```_"
   ]
  },
  {
   "cell_type": "markdown",
   "metadata": {},
   "source": [
    "Let's finish making our plot. We need to iterate over all of the presented sweeps. <br>\n",
    "**Q6: What are all of the sweep numers for Long Squares?**"
   ]
  },
  {
   "cell_type": "code",
   "execution_count": null,
   "metadata": {},
   "outputs": [],
   "source": []
  },
  {
   "cell_type": "markdown",
   "metadata": {},
   "source": [
    "**Q7: for a sweep, use ```data_set.get_sweep(sweepnumber)``` to get the data. look in here to get the \"stimulus\" (in amps) and \"response\" (in V)**"
   ]
  },
  {
   "cell_type": "code",
   "execution_count": null,
   "metadata": {},
   "outputs": [],
   "source": []
  },
  {
   "cell_type": "markdown",
   "metadata": {},
   "source": [
    "**Q8: plot the response for each current stimulus. you are looking for something like the plot below, which we showed in the beginning**"
   ]
  },
  {
   "cell_type": "code",
   "execution_count": 20,
   "metadata": {},
   "outputs": [
    {
     "data": {
      "image/png": "[encoded data removed]",
      "text/plain": [
       "<Figure size 288x288 with 2 Axes>"
      ]
     },
     "metadata": {
      "needs_background": "light"
     },
     "output_type": "display_data"
    }
   ],
   "source": []
  }
 ],
 "metadata": {
  "kernelspec": {
   "display_name": "Python 3",
   "language": "python",
   "name": "python3"
  },
  "language_info": {
   "codemirror_mode": {
    "name": "ipython",
    "version": 3
   },
   "file_extension": ".py",
   "mimetype": "text/x-python",
   "name": "python",
   "nbconvert_exporter": "python",
   "pygments_lexer": "ipython3",
   "version": "3.7.11"
  }
 },
 "nbformat": 4,
 "nbformat_minor": 4
}
