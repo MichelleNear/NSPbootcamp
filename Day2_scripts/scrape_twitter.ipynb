{
 "cells": [
  {
   "cell_type": "code",
   "execution_count": 3,
   "metadata": {},
   "outputs": [],
   "source": [
    "import tweepy, time, json\n",
    "import pandas as pd"
   ]
  },
  {
   "cell_type": "code",
   "execution_count": 5,
   "metadata": {},
   "outputs": [],
   "source": [
    "auth = tweepy.AppAuthHandler('7h4FgMw9Ljpodg6Rmz8RQjoe9','iFsGPUov106Ji27wD45ADMDNkXKIOsHhQUmEgD6tb5Cnbxi4JO')\n",
    "api = tweepy.API(auth,wait_on_rate_limit=True)"
   ]
  },
  {
   "cell_type": "code",
   "execution_count": 43,
   "metadata": {},
   "outputs": [],
   "source": [
    "text_query = 'neuro*'\n",
    "count = 50000\n",
    "try:\n",
    "    # Creation of query method using parameters\n",
    "    tweets = tweepy.Cursor(api.search,q=text_query,lang='en',tweet_mode='extended',)\n",
    "    tweets_= tweets.items(count)\n",
    "\n",
    "    # Pulling information from tweets iterable object\n",
    "    tweets_list = [[tweet.created_at, tweet.id, tweet.full_text,tweet.user.screen_name,tweet.user.name] for tweet in tweets_]\n",
    "\n",
    "    # Creation of dataframe from tweets list\n",
    "    # Add or remove columns as you remove tweet information\n",
    "    tweets_df_ = pd.DataFrame(tweets_list)\n",
    "    tweets_df_.transpose()\n",
    "    tweets_df_.columns = ['datetime','tweet_id','text','screen_name','name']\n",
    "\n",
    "except BaseException as e:\n",
    "    print('failed on_status,',str(e))\n",
    "    time.sleep(3)"
   ]
  },
  {
   "cell_type": "code",
   "execution_count": 44,
   "metadata": {},
   "outputs": [],
   "source": [
    "tweets_df_.to_csv('neuro50000.csv')"
   ]
  },
  {
   "cell_type": "code",
   "execution_count": 41,
   "metadata": {},
   "outputs": [
    {
     "data": {
      "text/html": [
       "<div>\n",
       "<style scoped>\n",
       "    .dataframe tbody tr th:only-of-type {\n",
       "        vertical-align: middle;\n",
       "    }\n",
       "\n",
       "    .dataframe tbody tr th {\n",
       "        vertical-align: top;\n",
       "    }\n",
       "\n",
       "    .dataframe thead th {\n",
       "        text-align: right;\n",
       "    }\n",
       "</style>\n",
       "<table border=\"1\" class=\"dataframe\">\n",
       "  <thead>\n",
       "    <tr style=\"text-align: right;\">\n",
       "      <th></th>\n",
       "      <th>datetime</th>\n",
       "      <th>tweet_id</th>\n",
       "      <th>text</th>\n",
       "      <th>screen_name</th>\n",
       "      <th>name</th>\n",
       "    </tr>\n",
       "  </thead>\n",
       "  <tbody>\n",
       "    <tr>\n",
       "      <th>0</th>\n",
       "      <td>2020-08-21 04:19:31</td>\n",
       "      <td>1296663195172712448</td>\n",
       "      <td>@analog_ashley What a sad tweet. Truth is real...</td>\n",
       "      <td>Neuro_musings</td>\n",
       "      <td>Aparna Shah 🧠 👩‍🔬</td>\n",
       "    </tr>\n",
       "    <tr>\n",
       "      <th>2</th>\n",
       "      <td>2020-08-21 04:18:30</td>\n",
       "      <td>1296662941291253761</td>\n",
       "      <td>@JSCVD2 @almuftifawaz Dear Sir/Madam. This is ...</td>\n",
       "      <td>DelicaMedical</td>\n",
       "      <td>Delica Medical</td>\n",
       "    </tr>\n",
       "    <tr>\n",
       "      <th>3</th>\n",
       "      <td>2020-08-21 04:18:14</td>\n",
       "      <td>1296662871510843393</td>\n",
       "      <td>RT @OptaHos: @neuro_words @hildahrabut It is s...</td>\n",
       "      <td>kariuk_i</td>\n",
       "      <td>Gachucha</td>\n",
       "    </tr>\n",
       "    <tr>\n",
       "      <th>5</th>\n",
       "      <td>2020-08-21 04:16:12</td>\n",
       "      <td>1296662361865158657</td>\n",
       "      <td>RT @Lynn26772903: @MysterySolvent Loss of righ...</td>\n",
       "      <td>KidzrusX5</td>\n",
       "      <td>Republican voting BLUE</td>\n",
       "    </tr>\n",
       "    <tr>\n",
       "      <th>6</th>\n",
       "      <td>2020-08-21 04:15:20</td>\n",
       "      <td>1296662145099116544</td>\n",
       "      <td>RT @ET_Exists: #WomenInSTEM Twitter Series Epi...</td>\n",
       "      <td>quadraticadder</td>\n",
       "      <td>Steve B. 🇨🇦</td>\n",
       "    </tr>\n",
       "    <tr>\n",
       "      <th>...</th>\n",
       "      <td>...</td>\n",
       "      <td>...</td>\n",
       "      <td>...</td>\n",
       "      <td>...</td>\n",
       "      <td>...</td>\n",
       "    </tr>\n",
       "    <tr>\n",
       "      <th>4995</th>\n",
       "      <td>2020-08-18 16:48:37</td>\n",
       "      <td>1295764550646730758</td>\n",
       "      <td>RT @NSACL: Attention parents of children with ...</td>\n",
       "      <td>LisaRobertsHfx</td>\n",
       "      <td>Lisa Roberts</td>\n",
       "    </tr>\n",
       "    <tr>\n",
       "      <th>4996</th>\n",
       "      <td>2020-08-18 16:47:51</td>\n",
       "      <td>1295764356920233984</td>\n",
       "      <td>RT @ComentarioDicho: @eireannachros @BrianKare...</td>\n",
       "      <td>50smag</td>\n",
       "      <td>PEARL</td>\n",
       "    </tr>\n",
       "    <tr>\n",
       "      <th>4997</th>\n",
       "      <td>2020-08-18 16:47:31</td>\n",
       "      <td>1295764274334388224</td>\n",
       "      <td>He does not know what the word mesmerism means...</td>\n",
       "      <td>Em_Lickspittle</td>\n",
       "      <td>EmmersonLickspittle</td>\n",
       "    </tr>\n",
       "    <tr>\n",
       "      <th>4998</th>\n",
       "      <td>2020-08-18 16:47:15</td>\n",
       "      <td>1295764207586156544</td>\n",
       "      <td>@im_enby old joyryde is always fun to blast wh...</td>\n",
       "      <td>PZL_Neuro</td>\n",
       "      <td>PZL</td>\n",
       "    </tr>\n",
       "    <tr>\n",
       "      <th>4999</th>\n",
       "      <td>2020-08-18 16:46:59</td>\n",
       "      <td>1295764138937978885</td>\n",
       "      <td>@triplevirghoe @ForeverElSanto Y’all good ?</td>\n",
       "      <td>Neuro_haux</td>\n",
       "      <td>Himbos Anonymous</td>\n",
       "    </tr>\n",
       "  </tbody>\n",
       "</table>\n",
       "<p>3983 rows × 5 columns</p>\n",
       "</div>"
      ],
      "text/plain": [
       "                datetime             tweet_id  \\\n",
       "0    2020-08-21 04:19:31  1296663195172712448   \n",
       "2    2020-08-21 04:18:30  1296662941291253761   \n",
       "3    2020-08-21 04:18:14  1296662871510843393   \n",
       "5    2020-08-21 04:16:12  1296662361865158657   \n",
       "6    2020-08-21 04:15:20  1296662145099116544   \n",
       "...                  ...                  ...   \n",
       "4995 2020-08-18 16:48:37  1295764550646730758   \n",
       "4996 2020-08-18 16:47:51  1295764356920233984   \n",
       "4997 2020-08-18 16:47:31  1295764274334388224   \n",
       "4998 2020-08-18 16:47:15  1295764207586156544   \n",
       "4999 2020-08-18 16:46:59  1295764138937978885   \n",
       "\n",
       "                                                   text     screen_name  \\\n",
       "0     @analog_ashley What a sad tweet. Truth is real...   Neuro_musings   \n",
       "2     @JSCVD2 @almuftifawaz Dear Sir/Madam. This is ...   DelicaMedical   \n",
       "3     RT @OptaHos: @neuro_words @hildahrabut It is s...        kariuk_i   \n",
       "5     RT @Lynn26772903: @MysterySolvent Loss of righ...       KidzrusX5   \n",
       "6     RT @ET_Exists: #WomenInSTEM Twitter Series Epi...  quadraticadder   \n",
       "...                                                 ...             ...   \n",
       "4995  RT @NSACL: Attention parents of children with ...  LisaRobertsHfx   \n",
       "4996  RT @ComentarioDicho: @eireannachros @BrianKare...          50smag   \n",
       "4997  He does not know what the word mesmerism means...  Em_Lickspittle   \n",
       "4998  @im_enby old joyryde is always fun to blast wh...       PZL_Neuro   \n",
       "4999        @triplevirghoe @ForeverElSanto Y’all good ?      Neuro_haux   \n",
       "\n",
       "                        name  \n",
       "0          Aparna Shah 🧠 👩‍🔬  \n",
       "2             Delica Medical  \n",
       "3                   Gachucha  \n",
       "5     Republican voting BLUE  \n",
       "6                Steve B. 🇨🇦  \n",
       "...                      ...  \n",
       "4995            Lisa Roberts  \n",
       "4996                   PEARL  \n",
       "4997     EmmersonLickspittle  \n",
       "4998                     PZL  \n",
       "4999        Himbos Anonymous  \n",
       "\n",
       "[3983 rows x 5 columns]"
      ]
     },
     "execution_count": 41,
     "metadata": {},
     "output_type": "execute_result"
    }
   ],
   "source": [
    "tweets_df_[tweets_df_.text.str.contains('@')]"
   ]
  },
  {
   "cell_type": "code",
   "execution_count": 28,
   "metadata": {},
   "outputs": [
    {
     "data": {
      "text/html": [
       "<div>\n",
       "<style scoped>\n",
       "    .dataframe tbody tr th:only-of-type {\n",
       "        vertical-align: middle;\n",
       "    }\n",
       "\n",
       "    .dataframe tbody tr th {\n",
       "        vertical-align: top;\n",
       "    }\n",
       "\n",
       "    .dataframe thead th {\n",
       "        text-align: right;\n",
       "    }\n",
       "</style>\n",
       "<table border=\"1\" class=\"dataframe\">\n",
       "  <thead>\n",
       "    <tr style=\"text-align: right;\">\n",
       "      <th></th>\n",
       "      <th>datetime</th>\n",
       "      <th>tweet_id</th>\n",
       "      <th>text</th>\n",
       "      <th>screen_name</th>\n",
       "      <th>name</th>\n",
       "    </tr>\n",
       "  </thead>\n",
       "  <tbody>\n",
       "    <tr>\n",
       "      <th>1995</th>\n",
       "      <td>2020-08-20 07:01:16</td>\n",
       "      <td>1296341513211961344</td>\n",
       "      <td>Read this publication to learn about the neuro...</td>\n",
       "      <td>ANTNeuro</td>\n",
       "      <td>ANT Neuro</td>\n",
       "    </tr>\n",
       "    <tr>\n",
       "      <th>1996</th>\n",
       "      <td>2020-08-20 07:00:57</td>\n",
       "      <td>1296341432693817344</td>\n",
       "      <td>@Cmfundisi This is very sad kodwa Dr... Discri...</td>\n",
       "      <td>Gaba_Thithibe</td>\n",
       "      <td>Jakalas Yase Daveyton</td>\n",
       "    </tr>\n",
       "    <tr>\n",
       "      <th>1997</th>\n",
       "      <td>2020-08-20 06:53:03</td>\n",
       "      <td>1296339448293019649</td>\n",
       "      <td>With neuro technologies just around the corner...</td>\n",
       "      <td>e_methivier</td>\n",
       "      <td>Emmanuel Methivier</td>\n",
       "    </tr>\n",
       "    <tr>\n",
       "      <th>1998</th>\n",
       "      <td>2020-08-20 06:52:46</td>\n",
       "      <td>1296339376948023296</td>\n",
       "      <td>RT @FMeasham: DnB on @BBCWomansHour! Listen ag...</td>\n",
       "      <td>b_neuro</td>\n",
       "      <td>Jo Neill</td>\n",
       "    </tr>\n",
       "    <tr>\n",
       "      <th>1999</th>\n",
       "      <td>2020-08-20 06:52:36</td>\n",
       "      <td>1296339332824018945</td>\n",
       "      <td>Trauma/Neuro breath is equivalent to death 🤢😷🤮</td>\n",
       "      <td>joANNYnopanties</td>\n",
       "      <td>shawndaaa ☺️</td>\n",
       "    </tr>\n",
       "  </tbody>\n",
       "</table>\n",
       "</div>"
      ],
      "text/plain": [
       "                datetime             tweet_id  \\\n",
       "1995 2020-08-20 07:01:16  1296341513211961344   \n",
       "1996 2020-08-20 07:00:57  1296341432693817344   \n",
       "1997 2020-08-20 06:53:03  1296339448293019649   \n",
       "1998 2020-08-20 06:52:46  1296339376948023296   \n",
       "1999 2020-08-20 06:52:36  1296339332824018945   \n",
       "\n",
       "                                                   text      screen_name  \\\n",
       "1995  Read this publication to learn about the neuro...         ANTNeuro   \n",
       "1996  @Cmfundisi This is very sad kodwa Dr... Discri...    Gaba_Thithibe   \n",
       "1997  With neuro technologies just around the corner...      e_methivier   \n",
       "1998  RT @FMeasham: DnB on @BBCWomansHour! Listen ag...          b_neuro   \n",
       "1999     Trauma/Neuro breath is equivalent to death 🤢😷🤮  joANNYnopanties   \n",
       "\n",
       "                       name  \n",
       "1995              ANT Neuro  \n",
       "1996  Jakalas Yase Daveyton  \n",
       "1997     Emmanuel Methivier  \n",
       "1998               Jo Neill  \n",
       "1999           shawndaaa ☺️  "
      ]
     },
     "execution_count": 28,
     "metadata": {},
     "output_type": "execute_result"
    }
   ],
   "source": [
    "tweets_df_.tail()"
   ]
  },
  {
   "cell_type": "code",
   "execution_count": 22,
   "metadata": {
    "jupyter": {
     "source_hidden": true
    }
   },
   "outputs": [
    {
     "name": "stdout",
     "output_type": "stream",
     "text": [
      "failed on_status, 'Cursor' object has no attribute 'next'\n"
     ]
    }
   ],
   "source": [
    "text_query = 'neuro*'\n",
    "count = 2000\n",
    "try:\n",
    "    # Creation of query method using parameters\n",
    "    tweets = tweepy.Cursor(api.search,q=text_query,tweet_mode='extended',cursor=tweets.next)\n",
    "    tweets_= tweets.items(count)\n",
    "\n",
    "    # Pulling information from tweets iterable object\n",
    "    tweets_list = [[tweet.created_at, tweet.id, tweet.full_text,tweet.user.screen_name,tweet.user.name] for tweet in tweets]\n",
    "\n",
    "    # Creation of dataframe from tweets list\n",
    "    # Add or remove columns as you remove tweet information\n",
    "    tweets_df = pd.DataFrame(tweets_list)\n",
    "    tweets_df.transpose()\n",
    "    tweets_df.columns = ['datetime','tweet_id','text','screen_name','name']\n",
    "\n",
    "except BaseException as e:\n",
    "    print('failed on_status,',str(e))\n",
    "    time.sleep(3)"
   ]
  },
  {
   "cell_type": "code",
   "execution_count": null,
   "metadata": {},
   "outputs": [],
   "source": [
    "tweets."
   ]
  },
  {
   "cell_type": "markdown",
   "metadata": {},
   "source": [
    "some suggestions:\n",
    "- most frequent word?\n",
    "- how many also contain the word brain?\n",
    "- how many have an @?\n",
    "- how many other users are @ed? \n",
    "- who @s whom?\n",
    "\n",
    "<br>\n",
    "- generate a tweet bot by training a deep neural network to generate text; train it on our neuro tweets, or ask dan if he can get you other tweets. use textgenrnn in google colab"
   ]
  },
  {
   "cell_type": "code",
   "execution_count": 34,
   "metadata": {},
   "outputs": [
    {
     "ename": "ModuleNotFoundError",
     "evalue": "No module named 'keras.backend.tensorflow_backend'; 'keras.backend' is not a package",
     "output_type": "error",
     "traceback": [
      "\u001b[0;31m---------------------------------------------------------------------------\u001b[0m",
      "\u001b[0;31mModuleNotFoundError\u001b[0m                       Traceback (most recent call last)",
      "\u001b[0;32m<ipython-input-34-8a51c7b8eb61>\u001b[0m in \u001b[0;36m<module>\u001b[0;34m\u001b[0m\n\u001b[0;32m----> 1\u001b[0;31m \u001b[0;32mimport\u001b[0m \u001b[0mtextgenrnn\u001b[0m\u001b[0;34m\u001b[0m\u001b[0;34m\u001b[0m\u001b[0m\n\u001b[0m",
      "\u001b[0;32m~/opt/anaconda3/envs/NSPbootcamp/lib/python3.7/site-packages/textgenrnn/__init__.py\u001b[0m in \u001b[0;36m<module>\u001b[0;34m\u001b[0m\n\u001b[0;32m----> 1\u001b[0;31m \u001b[0;32mfrom\u001b[0m \u001b[0;34m.\u001b[0m\u001b[0mtextgenrnn\u001b[0m \u001b[0;32mimport\u001b[0m \u001b[0mtextgenrnn\u001b[0m\u001b[0;34m\u001b[0m\u001b[0;34m\u001b[0m\u001b[0m\n\u001b[0m",
      "\u001b[0;32m~/opt/anaconda3/envs/NSPbootcamp/lib/python3.7/site-packages/textgenrnn/textgenrnn.py\u001b[0m in \u001b[0;36m<module>\u001b[0;34m\u001b[0m\n\u001b[1;32m     12\u001b[0m \u001b[0;32mfrom\u001b[0m \u001b[0msklearn\u001b[0m\u001b[0;34m.\u001b[0m\u001b[0mmetrics\u001b[0m\u001b[0;34m.\u001b[0m\u001b[0mpairwise\u001b[0m \u001b[0;32mimport\u001b[0m \u001b[0mcosine_similarity\u001b[0m\u001b[0;34m\u001b[0m\u001b[0;34m\u001b[0m\u001b[0m\n\u001b[1;32m     13\u001b[0m \u001b[0;32mimport\u001b[0m \u001b[0mtensorflow\u001b[0m \u001b[0;32mas\u001b[0m \u001b[0mtf\u001b[0m\u001b[0;34m\u001b[0m\u001b[0;34m\u001b[0m\u001b[0m\n\u001b[0;32m---> 14\u001b[0;31m \u001b[0;32mfrom\u001b[0m \u001b[0mkeras\u001b[0m\u001b[0;34m.\u001b[0m\u001b[0mbackend\u001b[0m\u001b[0;34m.\u001b[0m\u001b[0mtensorflow_backend\u001b[0m \u001b[0;32mimport\u001b[0m \u001b[0mset_session\u001b[0m\u001b[0;34m\u001b[0m\u001b[0;34m\u001b[0m\u001b[0m\n\u001b[0m\u001b[1;32m     15\u001b[0m \u001b[0;32mimport\u001b[0m \u001b[0mnumpy\u001b[0m \u001b[0;32mas\u001b[0m \u001b[0mnp\u001b[0m\u001b[0;34m\u001b[0m\u001b[0;34m\u001b[0m\u001b[0m\n\u001b[1;32m     16\u001b[0m \u001b[0;32mimport\u001b[0m \u001b[0mjson\u001b[0m\u001b[0;34m\u001b[0m\u001b[0;34m\u001b[0m\u001b[0m\n",
      "\u001b[0;31mModuleNotFoundError\u001b[0m: No module named 'keras.backend.tensorflow_backend'; 'keras.backend' is not a package"
     ]
    }
   ],
   "source": [
    "import textgenrnn"
   ]
  },
  {
   "cell_type": "code",
   "execution_count": 35,
   "metadata": {},
   "outputs": [
    {
     "name": "stdout",
     "output_type": "stream",
     "text": [
      "Requirement already satisfied: keras in /Users/danieljdenman/opt/anaconda3/envs/NSPbootcamp/lib/python3.7/site-packages (2.4.3)\n",
      "Requirement already satisfied: h5py in /Users/danieljdenman/opt/anaconda3/envs/NSPbootcamp/lib/python3.7/site-packages (from keras) (2.10.0)\n",
      "Requirement already satisfied: pyyaml in /Users/danieljdenman/opt/anaconda3/envs/NSPbootcamp/lib/python3.7/site-packages (from keras) (5.3.1)\n",
      "Requirement already satisfied: scipy>=0.14 in /Users/danieljdenman/opt/anaconda3/envs/NSPbootcamp/lib/python3.7/site-packages (from keras) (1.5.0)\n",
      "Requirement already satisfied: numpy>=1.9.1 in /Users/danieljdenman/opt/anaconda3/envs/NSPbootcamp/lib/python3.7/site-packages (from keras) (1.18.5)\n",
      "Requirement already satisfied: six in /Users/danieljdenman/opt/anaconda3/envs/NSPbootcamp/lib/python3.7/site-packages (from h5py->keras) (1.15.0)\n"
     ]
    }
   ],
   "source": [
    "!pip install keras"
   ]
  },
  {
   "cell_type": "code",
   "execution_count": 38,
   "metadata": {},
   "outputs": [
    {
     "ename": "ModuleNotFoundError",
     "evalue": "No module named 'keras.backend.tensorflow_backend'; 'keras.backend' is not a package",
     "output_type": "error",
     "traceback": [
      "\u001b[0;31m---------------------------------------------------------------------------\u001b[0m",
      "\u001b[0;31mModuleNotFoundError\u001b[0m                       Traceback (most recent call last)",
      "\u001b[0;32m<ipython-input-38-4d8bdda98caa>\u001b[0m in \u001b[0;36m<module>\u001b[0;34m\u001b[0m\n\u001b[0;32m----> 1\u001b[0;31m \u001b[0;32mimport\u001b[0m \u001b[0mkeras\u001b[0m\u001b[0;34m.\u001b[0m\u001b[0mbackend\u001b[0m\u001b[0;34m.\u001b[0m\u001b[0mtensorflow_backend\u001b[0m\u001b[0;34m\u001b[0m\u001b[0;34m\u001b[0m\u001b[0m\n\u001b[0m",
      "\u001b[0;31mModuleNotFoundError\u001b[0m: No module named 'keras.backend.tensorflow_backend'; 'keras.backend' is not a package"
     ]
    }
   ],
   "source": [
    "import keras.backend.tensorflow_backend"
   ]
  },
  {
   "cell_type": "code",
   "execution_count": null,
   "metadata": {},
   "outputs": [],
   "source": []
  }
 ],
 "metadata": {
  "kernelspec": {
   "display_name": "Python 3",
   "language": "python",
   "name": "python3"
  },
  "language_info": {
   "codemirror_mode": {
    "name": "ipython",
    "version": 3
   },
   "file_extension": ".py",
   "mimetype": "text/x-python",
   "name": "python",
   "nbconvert_exporter": "python",
   "pygments_lexer": "ipython3",
   "version": "3.7.7"
  }
 },
 "nbformat": 4,
 "nbformat_minor": 4
}
